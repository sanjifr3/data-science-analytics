{
 "cells": [
  {
   "cell_type": "markdown",
   "metadata": {},
   "source": [
    "### MIE1624H Assignment 2\n",
    "# Twitter Sentiment Analysis\n",
    "#### By: Sanjif Rajaratnam || Student ID: 999091986 || UtorID: rajara24\n"
   ]
  },
  {
   "cell_type": "markdown",
   "metadata": {},
   "source": [
    "The two classifiers that were chosen for the first part of the assignment were Naive Bayes and Logistic Regression. The models for this are from the scikit-learn library. The two classifiers that were chosen for this assignment were the Logistic Regression and Naive Bayes model. These models were obtained from the ski-kit learn Python libraries. The Multinomial and Bernoulli Naive Bayes model and the Logistic Regression model will be analyze in this section. The metrics will also be obtained for the scikit-learn library. Visualization will be done with matplotlib."
   ]
  },
  {
   "cell_type": "markdown",
   "metadata": {},
   "source": [
    "### Import Libraries"
   ]
  },
  {
   "cell_type": "markdown",
   "metadata": {},
   "source": [
    "**Import libraries for math functions, dataframes, and plotting**"
   ]
  },
  {
   "cell_type": "code",
   "execution_count": 1,
   "metadata": {
    "collapsed": false
   },
   "outputs": [],
   "source": [
    "import numpy as np # math functions\n",
    "import pandas as pd # for dataframes\n",
    "import matplotlib.pyplot as plt # for plotting\n",
    "from matplotlib import style\n",
    "%matplotlib inline"
   ]
  },
  {
   "cell_type": "markdown",
   "metadata": {},
   "source": [
    "**Import sci-kit learn libraries**"
   ]
  },
  {
   "cell_type": "code",
   "execution_count": 2,
   "metadata": {
    "collapsed": false
   },
   "outputs": [],
   "source": [
    "from sklearn.cross_validation import train_test_split # To split data into training/test sets\n",
    "from sklearn.feature_extraction.text import TfidfVectorizer # To create features from tweets\n",
    "from sklearn.linear_model import LogisticRegression # Logistic Regression model\n",
    "from sklearn.naive_bayes import MultinomialNB, BernoulliNB # Naive-Bayes models\n",
    "from sklearn.metrics import confusion_matrix, classification_report # For model metrics\n",
    "from sklearn.cross_validation import KFold, cross_val_score # For K-Fold validation\n",
    "from sklearn import metrics # Standard ML metrics"
   ]
  },
  {
   "cell_type": "markdown",
   "metadata": {},
   "source": [
    "**Plot style**"
   ]
  },
  {
   "cell_type": "code",
   "execution_count": 3,
   "metadata": {
    "collapsed": true
   },
   "outputs": [],
   "source": [
    "style.use('ggplot')"
   ]
  },
  {
   "cell_type": "markdown",
   "metadata": {},
   "source": [
    "## Part 1: Choosing The Optimal Machine Learning Algorithm"
   ]
  },
  {
   "cell_type": "markdown",
   "metadata": {},
   "source": [
    "The optimal classifier will be chosen by training and testing on the labeled data. A Logistic Regression model, a Multinomial Naive-Bayes model, and a Bernoulli Naive-Bayes model will be built and have their parameters optimized via grid search. The model performance will then be analyzed using the K-Fold technique, and standard statistical metrics."
   ]
  },
  {
   "cell_type": "markdown",
   "metadata": {},
   "source": [
    "### 1a) Read in Training Data"
   ]
  },
  {
   "cell_type": "markdown",
   "metadata": {},
   "source": [
    "**Change working directory to /resources/data**"
   ]
  },
  {
   "cell_type": "code",
   "execution_count": 4,
   "metadata": {
    "collapsed": false
   },
   "outputs": [
    {
     "name": "stdout",
     "output_type": "stream",
     "text": [
      "/resources/data\n"
     ]
    }
   ],
   "source": [
    "%cd /resources/data/"
   ]
  },
  {
   "cell_type": "markdown",
   "metadata": {},
   "source": [
    "**Open classified tweets file and split by line into list**"
   ]
  },
  {
   "cell_type": "code",
   "execution_count": 5,
   "metadata": {
    "collapsed": true
   },
   "outputs": [],
   "source": [
    "classifiedTweetsList = open('classified_tweets.txt','r').read().split('\\n')\n",
    "del classifiedTweetsList[-1] # Delete the last row since it's blank"
   ]
  },
  {
   "cell_type": "markdown",
   "metadata": {},
   "source": [
    "**Initialize arrays to store tweets and true score**"
   ]
  },
  {
   "cell_type": "code",
   "execution_count": 6,
   "metadata": {
    "collapsed": true
   },
   "outputs": [],
   "source": [
    "num_tweets = len(classifiedTweetsList)\n",
    "classified_tw = num_tweets * [0]\n",
    "truths = np.zeros(num_tweets)"
   ]
  },
  {
   "cell_type": "markdown",
   "metadata": {},
   "source": [
    "**Loop through each line of file and populate truth and tweet arrays**"
   ]
  },
  {
   "cell_type": "code",
   "execution_count": 7,
   "metadata": {
    "collapsed": true
   },
   "outputs": [],
   "source": [
    "i = 0 # Iterator\n",
    "for tw in classifiedTweetsList:\n",
    "    # First index of each line in file contained the true score\n",
    "    # Typecast as int and divide by 4 to get 0 for negative, and 1 for positive\n",
    "    truths[i] = int(tw[0])/4 \n",
    "    \n",
    "    classified_tw[i] = tw[2:] # Store the tweet part of the line in the classifier\n",
    "    i += 1 # increment iterator"
   ]
  },
  {
   "cell_type": "markdown",
   "metadata": {},
   "source": [
    "**Create dataframe with classified tweet and true score**"
   ]
  },
  {
   "cell_type": "code",
   "execution_count": 8,
   "metadata": {
    "collapsed": false,
    "scrolled": true
   },
   "outputs": [
    {
     "data": {
      "text/html": [
       "<div>\n",
       "<table border=\"1\" class=\"dataframe\">\n",
       "  <thead>\n",
       "    <tr style=\"text-align: right;\">\n",
       "      <th></th>\n",
       "      <th>truth</th>\n",
       "      <th>tweet</th>\n",
       "    </tr>\n",
       "  </thead>\n",
       "  <tbody>\n",
       "    <tr>\n",
       "      <th>0</th>\n",
       "      <td>0.0</td>\n",
       "      <td>@switchfoot http://twitpic.com/2y1zl - Awww  t...</td>\n",
       "    </tr>\n",
       "    <tr>\n",
       "      <th>1</th>\n",
       "      <td>0.0</td>\n",
       "      <td>is upset that he can't update his Facebook by ...</td>\n",
       "    </tr>\n",
       "    <tr>\n",
       "      <th>2</th>\n",
       "      <td>0.0</td>\n",
       "      <td>@Kenichan I dived many times for the ball. Man...</td>\n",
       "    </tr>\n",
       "    <tr>\n",
       "      <th>3</th>\n",
       "      <td>0.0</td>\n",
       "      <td>my whole body feels itchy and like its on fire</td>\n",
       "    </tr>\n",
       "    <tr>\n",
       "      <th>4</th>\n",
       "      <td>0.0</td>\n",
       "      <td>@nationwideclass no  it's not behaving at all....</td>\n",
       "    </tr>\n",
       "  </tbody>\n",
       "</table>\n",
       "</div>"
      ],
      "text/plain": [
       "   truth                                              tweet\n",
       "0    0.0  @switchfoot http://twitpic.com/2y1zl - Awww  t...\n",
       "1    0.0  is upset that he can't update his Facebook by ...\n",
       "2    0.0  @Kenichan I dived many times for the ball. Man...\n",
       "3    0.0    my whole body feels itchy and like its on fire \n",
       "4    0.0  @nationwideclass no  it's not behaving at all...."
      ]
     },
     "execution_count": 8,
     "metadata": {},
     "output_type": "execute_result"
    }
   ],
   "source": [
    "classifiedDF = pd.DataFrame(\n",
    "    {'tweet':classified_tw,\n",
    "     'truth':truths}\n",
    ")\n",
    "classifiedDF.head()"
   ]
  },
  {
   "cell_type": "markdown",
   "metadata": {},
   "source": [
    "**Split the dataframe into data and labels**"
   ]
  },
  {
   "cell_type": "code",
   "execution_count": 9,
   "metadata": {
    "collapsed": true
   },
   "outputs": [],
   "source": [
    "X = classifiedDF['tweet']\n",
    "y = classifiedDF['truth']"
   ]
  },
  {
   "cell_type": "markdown",
   "metadata": {},
   "source": [
    "**Initialize vectorizer**\n",
    "\n",
    "This vectorizer will be used to get unique features from the tweets."
   ]
  },
  {
   "cell_type": "code",
   "execution_count": 10,
   "metadata": {
    "collapsed": true
   },
   "outputs": [],
   "source": [
    "vectorizer = TfidfVectorizer(stop_words='english') # Start vectorizer"
   ]
  },
  {
   "cell_type": "markdown",
   "metadata": {},
   "source": [
    "### 1b) Creating Models"
   ]
  },
  {
   "cell_type": "markdown",
   "metadata": {},
   "source": [
    "The purpose of this section is to find the optimal algorithm. To do so, a greedy grid search technique is used to built models with various parameters. The test parameters were chosen randomly from some test runs. The built model is then validated using a K-Fold Cross Validation technique since this allows for the testing of a model with less variance than a single train-test set split."
   ]
  },
  {
   "cell_type": "markdown",
   "metadata": {},
   "source": [
    "**Initialize results dataframe and testing parameters**"
   ]
  },
  {
   "cell_type": "code",
   "execution_count": 11,
   "metadata": {
    "collapsed": false
   },
   "outputs": [],
   "source": [
    "parameter_list = [0.0001,0.001,0.01,0.1,1,5,10]\n",
    "index = ['model','param value','mean','std dev']\n",
    "resultsDF = pd.DataFrame(data=np.random.randn(len(parameter_list)*3,4),columns=index)"
   ]
  },
  {
   "cell_type": "markdown",
   "metadata": {},
   "source": [
    "**Grid Search with K-Fold Cross Validation**"
   ]
  },
  {
   "cell_type": "code",
   "execution_count": 12,
   "metadata": {
    "collapsed": false
   },
   "outputs": [
    {
     "name": "stdout",
     "output_type": "stream",
     "text": [
      "Multinomial NB Model w/ C=0.000: Accuracy: 64.05% (3.76%)\n",
      "Bernoulli NB Model w/ C=0.000: Accuracy: 67.93% (3.72%)\n",
      "Log Model w/ C=0.000: Accuracy: 0.00% (0.00%)\n",
      "Multinomial NB Model w/ C=0.001: Accuracy: 64.05% (3.77%)\n",
      "Bernoulli NB Model w/ C=0.001: Accuracy: 68.01% (3.75%)\n",
      "Log Model w/ C=0.001: Accuracy: 1.39% (0.78%)\n",
      "Multinomial NB Model w/ C=0.010: Accuracy: 64.09% (3.85%)\n",
      "Bernoulli NB Model w/ C=0.010: Accuracy: 68.36% (3.82%)\n",
      "Log Model w/ C=0.010: Accuracy: 42.95% (1.35%)\n",
      "Multinomial NB Model w/ C=0.100: Accuracy: 63.92% (3.99%)\n",
      "Bernoulli NB Model w/ C=0.100: Accuracy: 69.46% (4.13%)\n",
      "Log Model w/ C=0.100: Accuracy: 64.41% (2.93%)\n",
      "Multinomial NB Model w/ C=1.000: Accuracy: 57.75% (5.39%)\n",
      "Bernoulli NB Model w/ C=1.000: Accuracy: 66.02% (5.18%)\n",
      "Log Model w/ C=1.000: Accuracy: 70.02% (3.09%)\n",
      "Multinomial NB Model w/ C=5.000: Accuracy: 45.29% (7.16%)\n",
      "Bernoulli NB Model w/ C=5.000: Accuracy: 34.98% (5.90%)\n",
      "Log Model w/ C=5.000: Accuracy: 70.24% (2.29%)\n",
      "Multinomial NB Model w/ C=10.000: Accuracy: 40.32% (7.74%)\n",
      "Bernoulli NB Model w/ C=10.000: Accuracy: 10.30% (2.42%)\n",
      "Log Model w/ C=10.000: Accuracy: 69.81% (1.92%)\n"
     ]
    }
   ],
   "source": [
    "all_features = vectorizer.fit_transform(X)\n",
    "num_folds = 10\n",
    "i = 0\n",
    "for param in parameter_list:\n",
    "    Kfold = KFold(len(y), n_folds = num_folds)\n",
    "      \n",
    "    multiNBModel = MultinomialNB(alpha=param)\n",
    "    results = cross_val_score(multiNBModel, all_features, y, cv=Kfold)\n",
    "    print(\"Multinomial NB Model w/ C=%.3f: Accuracy: %.2f%% (%.2f%%)\" % (param,results.mean()*100,results.std()*100))\n",
    "    resultsDF.iloc[i] = (\"MultiNB\", param, results.mean(), results.std())\n",
    "    i +=1 \n",
    "        \n",
    "    bernNBModel = BernoulliNB(alpha=param)\n",
    "    results = cross_val_score(bernNBModel, all_features, y, cv=Kfold)\n",
    "    print(\"Bernoulli NB Model w/ C=%.3f: Accuracy: %.2f%% (%.2f%%)\" % (param,results.mean()*100,results.std()*100))\n",
    "    resultsDF.iloc[i] = (\"BernNB\", param, results.mean(), results.std())\n",
    "    i +=1  \n",
    "    \n",
    "    logModel = LogisticRegression(C=param)\n",
    "    results = cross_val_score(logModel, all_features, y, cv=Kfold)\n",
    "    print(\"Log Model w/ C=%.3f: Accuracy: %.2f%% (%.2f%%)\" % (param,results.mean()*100,results.std()*100))\n",
    "    resultsDF.iloc[i] = (\"Log\", param, results.mean(), results.std())\n",
    "    i +=1"
   ]
  },
  {
   "cell_type": "markdown",
   "metadata": {},
   "source": [
    "**Results**"
   ]
  },
  {
   "cell_type": "code",
   "execution_count": 13,
   "metadata": {
    "collapsed": false
   },
   "outputs": [
    {
     "data": {
      "text/html": [
       "<div>\n",
       "<table border=\"1\" class=\"dataframe\">\n",
       "  <thead>\n",
       "    <tr style=\"text-align: right;\">\n",
       "      <th></th>\n",
       "      <th>model</th>\n",
       "      <th>param value</th>\n",
       "      <th>mean</th>\n",
       "      <th>std dev</th>\n",
       "    </tr>\n",
       "  </thead>\n",
       "  <tbody>\n",
       "    <tr>\n",
       "      <th>19</th>\n",
       "      <td>BernNB</td>\n",
       "      <td>10.0000</td>\n",
       "      <td>0.103005</td>\n",
       "      <td>0.024157</td>\n",
       "    </tr>\n",
       "    <tr>\n",
       "      <th>16</th>\n",
       "      <td>BernNB</td>\n",
       "      <td>5.0000</td>\n",
       "      <td>0.349820</td>\n",
       "      <td>0.059038</td>\n",
       "    </tr>\n",
       "    <tr>\n",
       "      <th>13</th>\n",
       "      <td>BernNB</td>\n",
       "      <td>1.0000</td>\n",
       "      <td>0.660230</td>\n",
       "      <td>0.051793</td>\n",
       "    </tr>\n",
       "    <tr>\n",
       "      <th>1</th>\n",
       "      <td>BernNB</td>\n",
       "      <td>0.0001</td>\n",
       "      <td>0.679325</td>\n",
       "      <td>0.037201</td>\n",
       "    </tr>\n",
       "    <tr>\n",
       "      <th>4</th>\n",
       "      <td>BernNB</td>\n",
       "      <td>0.0010</td>\n",
       "      <td>0.680085</td>\n",
       "      <td>0.037542</td>\n",
       "    </tr>\n",
       "  </tbody>\n",
       "</table>\n",
       "</div>"
      ],
      "text/plain": [
       "     model  param value      mean   std dev\n",
       "19  BernNB      10.0000  0.103005  0.024157\n",
       "16  BernNB       5.0000  0.349820  0.059038\n",
       "13  BernNB       1.0000  0.660230  0.051793\n",
       "1   BernNB       0.0001  0.679325  0.037201\n",
       "4   BernNB       0.0010  0.680085  0.037542"
      ]
     },
     "execution_count": 13,
     "metadata": {},
     "output_type": "execute_result"
    }
   ],
   "source": [
    "resultsDF.sort_values(['model','mean']).head()"
   ]
  },
  {
   "cell_type": "code",
   "execution_count": 14,
   "metadata": {
    "collapsed": false
   },
   "outputs": [
    {
     "data": {
      "text/html": [
       "<div>\n",
       "<table border=\"1\" class=\"dataframe\">\n",
       "  <thead>\n",
       "    <tr style=\"text-align: right;\">\n",
       "      <th></th>\n",
       "      <th></th>\n",
       "      <th>mean</th>\n",
       "      <th>std dev</th>\n",
       "    </tr>\n",
       "    <tr>\n",
       "      <th>model</th>\n",
       "      <th></th>\n",
       "      <th></th>\n",
       "      <th></th>\n",
       "    </tr>\n",
       "  </thead>\n",
       "  <tbody>\n",
       "    <tr>\n",
       "      <th rowspan=\"8\" valign=\"top\">BernNB</th>\n",
       "      <th>count</th>\n",
       "      <td>7.000000</td>\n",
       "      <td>7.000000</td>\n",
       "    </tr>\n",
       "    <tr>\n",
       "      <th>mean</th>\n",
       "      <td>0.550101</td>\n",
       "      <td>0.041326</td>\n",
       "    </tr>\n",
       "    <tr>\n",
       "      <th>std</th>\n",
       "      <td>0.232538</td>\n",
       "      <td>0.011247</td>\n",
       "    </tr>\n",
       "    <tr>\n",
       "      <th>min</th>\n",
       "      <td>0.103005</td>\n",
       "      <td>0.024157</td>\n",
       "    </tr>\n",
       "    <tr>\n",
       "      <th>25%</th>\n",
       "      <td>0.505025</td>\n",
       "      <td>0.037372</td>\n",
       "    </tr>\n",
       "    <tr>\n",
       "      <th>50%</th>\n",
       "      <td>0.679325</td>\n",
       "      <td>0.038238</td>\n",
       "    </tr>\n",
       "    <tr>\n",
       "      <th>75%</th>\n",
       "      <td>0.681862</td>\n",
       "      <td>0.046554</td>\n",
       "    </tr>\n",
       "    <tr>\n",
       "      <th>max</th>\n",
       "      <td>0.694600</td>\n",
       "      <td>0.059038</td>\n",
       "    </tr>\n",
       "    <tr>\n",
       "      <th rowspan=\"8\" valign=\"top\">Log</th>\n",
       "      <th>count</th>\n",
       "      <td>7.000000</td>\n",
       "      <td>7.000000</td>\n",
       "    </tr>\n",
       "    <tr>\n",
       "      <th>mean</th>\n",
       "      <td>0.455452</td>\n",
       "      <td>0.017652</td>\n",
       "    </tr>\n",
       "    <tr>\n",
       "      <th>std</th>\n",
       "      <td>0.321029</td>\n",
       "      <td>0.011304</td>\n",
       "    </tr>\n",
       "    <tr>\n",
       "      <th>min</th>\n",
       "      <td>0.000000</td>\n",
       "      <td>0.000000</td>\n",
       "    </tr>\n",
       "    <tr>\n",
       "      <th>25%</th>\n",
       "      <td>0.221710</td>\n",
       "      <td>0.010651</td>\n",
       "    </tr>\n",
       "    <tr>\n",
       "      <th>50%</th>\n",
       "      <td>0.644145</td>\n",
       "      <td>0.019162</td>\n",
       "    </tr>\n",
       "    <tr>\n",
       "      <th>75%</th>\n",
       "      <td>0.699118</td>\n",
       "      <td>0.026093</td>\n",
       "    </tr>\n",
       "    <tr>\n",
       "      <th>max</th>\n",
       "      <td>0.702365</td>\n",
       "      <td>0.030912</td>\n",
       "    </tr>\n",
       "    <tr>\n",
       "      <th rowspan=\"8\" valign=\"top\">MultiNB</th>\n",
       "      <th>count</th>\n",
       "      <td>7.000000</td>\n",
       "      <td>7.000000</td>\n",
       "    </tr>\n",
       "    <tr>\n",
       "      <th>mean</th>\n",
       "      <td>0.570668</td>\n",
       "      <td>0.050953</td>\n",
       "    </tr>\n",
       "    <tr>\n",
       "      <th>std</th>\n",
       "      <td>0.101116</td>\n",
       "      <td>0.017155</td>\n",
       "    </tr>\n",
       "    <tr>\n",
       "      <th>min</th>\n",
       "      <td>0.403175</td>\n",
       "      <td>0.037622</td>\n",
       "    </tr>\n",
       "    <tr>\n",
       "      <th>25%</th>\n",
       "      <td>0.515195</td>\n",
       "      <td>0.038096</td>\n",
       "    </tr>\n",
       "    <tr>\n",
       "      <th>50%</th>\n",
       "      <td>0.639225</td>\n",
       "      <td>0.039933</td>\n",
       "    </tr>\n",
       "    <tr>\n",
       "      <th>75%</th>\n",
       "      <td>0.640480</td>\n",
       "      <td>0.062737</td>\n",
       "    </tr>\n",
       "    <tr>\n",
       "      <th>max</th>\n",
       "      <td>0.640925</td>\n",
       "      <td>0.077448</td>\n",
       "    </tr>\n",
       "  </tbody>\n",
       "</table>\n",
       "</div>"
      ],
      "text/plain": [
       "                   mean   std dev\n",
       "model                            \n",
       "BernNB  count  7.000000  7.000000\n",
       "        mean   0.550101  0.041326\n",
       "        std    0.232538  0.011247\n",
       "        min    0.103005  0.024157\n",
       "        25%    0.505025  0.037372\n",
       "        50%    0.679325  0.038238\n",
       "        75%    0.681862  0.046554\n",
       "        max    0.694600  0.059038\n",
       "Log     count  7.000000  7.000000\n",
       "        mean   0.455452  0.017652\n",
       "        std    0.321029  0.011304\n",
       "        min    0.000000  0.000000\n",
       "        25%    0.221710  0.010651\n",
       "        50%    0.644145  0.019162\n",
       "        75%    0.699118  0.026093\n",
       "        max    0.702365  0.030912\n",
       "MultiNB count  7.000000  7.000000\n",
       "        mean   0.570668  0.050953\n",
       "        std    0.101116  0.017155\n",
       "        min    0.403175  0.037622\n",
       "        25%    0.515195  0.038096\n",
       "        50%    0.639225  0.039933\n",
       "        75%    0.640480  0.062737\n",
       "        max    0.640925  0.077448"
      ]
     },
     "execution_count": 14,
     "metadata": {},
     "output_type": "execute_result"
    }
   ],
   "source": [
    "resultsDF.groupby('model').describe()[['mean','std dev']]"
   ]
  },
  {
   "cell_type": "markdown",
   "metadata": {},
   "source": [
    "### 1c) Analyzing Performance of Models"
   ]
  },
  {
   "cell_type": "markdown",
   "metadata": {},
   "source": [
    "**Plot mean of all algorithms to visually see performance changes with changing parameters**"
   ]
  },
  {
   "cell_type": "code",
   "execution_count": 15,
   "metadata": {
    "collapsed": false
   },
   "outputs": [],
   "source": [
    "all_params = resultsDF['param value'].unique()\n",
    "\n",
    "# Get means\n",
    "log_mean = resultsDF[resultsDF['model'] == 'Log'].sort_values('param value')['mean'].reset_index()['mean']\n",
    "multiNB_mean = resultsDF[resultsDF['model'] == 'MultiNB'].sort_values('param value')['mean'].reset_index()['mean']\n",
    "bernNB_mean = resultsDF[resultsDF['model'] == 'BernNB'].sort_values('param value')['mean'].reset_index()['mean']\n",
    "\n",
    "# Get standard deviations\n",
    "log_std = resultsDF[resultsDF['model'] == 'Log'].sort_values('param value')['std dev'].reset_index()['std dev']\n",
    "multiNB_std = resultsDF[resultsDF['model'] == 'MultiNB'].sort_values('param value')['std dev'].reset_index()['std dev']\n",
    "bernNB_std = resultsDF[resultsDF['model'] == 'BernNB'].sort_values('param value')['std dev'].reset_index()['std dev']"
   ]
  },
  {
   "cell_type": "code",
   "execution_count": 16,
   "metadata": {
    "collapsed": false
   },
   "outputs": [
    {
     "data": {
      "text/plain": [
       "<matplotlib.legend.Legend at 0x7fe648326e10>"
      ]
     },
     "execution_count": 16,
     "metadata": {},
     "output_type": "execute_result"
    },
    {
     "data": {
      "image/png": "[encoded data removed]",
      "text/plain": [
       "<matplotlib.figure.Figure at 0x7fe647753dd8>"
      ]
     },
     "metadata": {},
     "output_type": "display_data"
    }
   ],
   "source": [
    "fig, ax = plt.subplots(figsize=(12,5))\n",
    "\n",
    "ax.errorbar(all_params, log_mean, yerr=log_std, fmt='-o',ecolor='g',color='g') # plot log\n",
    "ax.errorbar(all_params, multiNB_mean, yerr=multiNB_std, fmt='-o',ecolor='r', color='r') # plot MultiNB\n",
    "ax.errorbar(all_params, bernNB_mean, yerr=bernNB_std, fmt='-o',ecolor='b', color='b') # plot BernoulliNB\n",
    "\n",
    "plt.title(\"Optimal Parameter Analysis\")\n",
    "plt.xlabel('Parameter')\n",
    "plt.ylabel('Accuracy (%)')\n",
    "ax.legend(['Logarithmic','Multinomial NB','Bernoulli NB'],loc='center left',bbox_to_anchor=(1.0,0.5))"
   ]
  },
  {
   "cell_type": "markdown",
   "metadata": {},
   "source": [
    "For the Logarithmic Regression model, as C increases, the model performance increases until c = 3, then it very slowly decreases. Both the Bernoulli and Multinomial Naive Bayes model perform poorly at high alpha values. Both are optimal with alpha values below or equal to 0.1. The logarithmic model has fairly low standard deviation compared to the other two models. The Bernoulli Naive-Bayes model's standard deviation decreases as its alpha parameter increases. The Multinomial Naive-Bayes model's standard deviation increases as its alpha parameter increases."
   ]
  },
  {
   "cell_type": "markdown",
   "metadata": {},
   "source": [
    "**Find best model for each algorithm type**"
   ]
  },
  {
   "cell_type": "code",
   "execution_count": 17,
   "metadata": {
    "collapsed": false
   },
   "outputs": [
    {
     "data": {
      "text/html": [
       "<div>\n",
       "<table border=\"1\" class=\"dataframe\">\n",
       "  <thead>\n",
       "    <tr style=\"text-align: right;\">\n",
       "      <th></th>\n",
       "      <th>model</th>\n",
       "      <th>param value</th>\n",
       "      <th>mean</th>\n",
       "      <th>std dev</th>\n",
       "    </tr>\n",
       "  </thead>\n",
       "  <tbody>\n",
       "    <tr>\n",
       "      <th>10</th>\n",
       "      <td>BernNB</td>\n",
       "      <td>0.10</td>\n",
       "      <td>0.694600</td>\n",
       "      <td>0.041315</td>\n",
       "    </tr>\n",
       "    <tr>\n",
       "      <th>17</th>\n",
       "      <td>Log</td>\n",
       "      <td>5.00</td>\n",
       "      <td>0.702365</td>\n",
       "      <td>0.022888</td>\n",
       "    </tr>\n",
       "    <tr>\n",
       "      <th>6</th>\n",
       "      <td>MultiNB</td>\n",
       "      <td>0.01</td>\n",
       "      <td>0.640925</td>\n",
       "      <td>0.038491</td>\n",
       "    </tr>\n",
       "  </tbody>\n",
       "</table>\n",
       "</div>"
      ],
      "text/plain": [
       "      model  param value      mean   std dev\n",
       "10   BernNB         0.10  0.694600  0.041315\n",
       "17      Log         5.00  0.702365  0.022888\n",
       "6   MultiNB         0.01  0.640925  0.038491"
      ]
     },
     "execution_count": 17,
     "metadata": {},
     "output_type": "execute_result"
    }
   ],
   "source": [
    "resultsDF.ix[resultsDF.groupby('model')['mean'].idxmax()]"
   ]
  },
  {
   "cell_type": "markdown",
   "metadata": {},
   "source": [
    "**Get optimal model parameters**"
   ]
  },
  {
   "cell_type": "code",
   "execution_count": 18,
   "metadata": {
    "collapsed": false
   },
   "outputs": [],
   "source": [
    "bernNB_param = resultsDF.ix[resultsDF[resultsDF['model'] == 'BernNB'][['mean']].idxmax()]['param value'].values[0]\n",
    "log_param = resultsDF.ix[resultsDF[resultsDF['model'] == 'Log'][['mean']].idxmax()]['param value'].values[0]\n",
    "multiNB_param = resultsDF.ix[resultsDF[resultsDF['model'] == 'MultiNB'][['mean']].idxmax()]['param value'].values[0]"
   ]
  },
  {
   "cell_type": "markdown",
   "metadata": {},
   "source": [
    "**Get the model stats**"
   ]
  },
  {
   "cell_type": "code",
   "execution_count": 19,
   "metadata": {
    "collapsed": false
   },
   "outputs": [],
   "source": [
    "models = resultsDF.ix[resultsDF.groupby('model')['mean'].idxmax()]['model'].reset_index()['model']\n",
    "means = resultsDF.groupby('model')['mean'].max().reset_index()['mean']\n",
    "std_devs = resultsDF.ix[resultsDF.groupby('model')['mean'].idxmax()]['std dev'].reset_index()['std dev']"
   ]
  },
  {
   "cell_type": "markdown",
   "metadata": {},
   "source": [
    "**Create errorbar plot with model statistics**"
   ]
  },
  {
   "cell_type": "code",
   "execution_count": 20,
   "metadata": {
    "collapsed": false
   },
   "outputs": [
    {
     "data": {
      "text/plain": [
       "([<matplotlib.axis.XTick at 0x7fe648130160>,\n",
       "  <matplotlib.axis.XTick at 0x7fe648130080>,\n",
       "  <matplotlib.axis.XTick at 0x7fe6479fe358>],\n",
       " <a list of 3 Text xticklabel objects>)"
      ]
     },
     "execution_count": 20,
     "metadata": {},
     "output_type": "execute_result"
    },
    {
     "data": {
      "image/png": "[encoded data removed]",
      "text/plain": [
       "<matplotlib.figure.Figure at 0x7fe647926748>"
      ]
     },
     "metadata": {},
     "output_type": "display_data"
    }
   ],
   "source": [
    "fig2, ax2 = plt.subplots(figsize=(12,5))\n",
    "ax2.errorbar(np.arange(3), means*100, std_devs*100, fmt='ok', color='r', lw=2,markersize=10)\n",
    "plt.title(\"Optimal Model Performance Analysis\")\n",
    "plt.xlabel('Models')\n",
    "plt.ylabel('Accuracy (%)')\n",
    "plt.xlim(-1,3)\n",
    "plt.ylim(60,75)\n",
    "plt.xticks(np.arange(3),['Bernoulli Naive Bayes','Logarithmic Regression','Multinomial Naive-Bayes'])"
   ]
  },
  {
   "cell_type": "markdown",
   "metadata": {},
   "source": [
    "From the errorplot seen above, it is seen that the Logarithmic model has the best mean performance and the lowest standard deviation. The max of the Bernoulli Model is greater than the Log model but its standard deviation is much worse than the Logarithmic model. This means that its performance can vary vastly. The optimal algorithm in this case is the Logarithmic model."
   ]
  },
  {
   "cell_type": "markdown",
   "metadata": {},
   "source": [
    "### 1d) Machine Learning Performance Metrics"
   ]
  },
  {
   "cell_type": "markdown",
   "metadata": {},
   "source": [
    "Get standard machine learning metrics on the optimal machine learning models"
   ]
  },
  {
   "cell_type": "markdown",
   "metadata": {},
   "source": [
    "**Create training and test sets**\n",
    "\n",
    "Use the common convention of 33% for testing and 67% for training. Use the vectorizer to transform the tweets to Tfidf features."
   ]
  },
  {
   "cell_type": "code",
   "execution_count": 21,
   "metadata": {
    "collapsed": false
   },
   "outputs": [],
   "source": [
    "X_train, X_test, y_train, y_test = train_test_split(X,y,test_size=0.33)\n",
    "feature_train = vectorizer.fit_transform(X_train)\n",
    "feature_test = vectorizer.transform(X_test)"
   ]
  },
  {
   "cell_type": "markdown",
   "metadata": {},
   "source": [
    "**Train and evalute Logarithmic Regression model**"
   ]
  },
  {
   "cell_type": "code",
   "execution_count": 22,
   "metadata": {
    "collapsed": false
   },
   "outputs": [
    {
     "name": "stdout",
     "output_type": "stream",
     "text": [
      "Log Model Classification Report\n",
      "             precision    recall  f1-score   support\n",
      "\n",
      "        0.0       0.77      0.75      0.76     33054\n",
      "        1.0       0.76      0.78      0.77     32946\n",
      "\n",
      "avg / total       0.76      0.76      0.76     66000\n",
      "\n",
      "Log Model Confusion Matrix\n",
      "[[24829  8225]\n",
      " [ 7350 25596]]\n",
      "\n",
      "\n",
      "Accuracy: 76.4015151515 %\n",
      "Misclassification Rate: 23.5984848485 %\n",
      "\n",
      "\n",
      "MAE: 23.5984848485 %\n",
      "MSE: 23.5984848485 %\n",
      "RMSE: 48.5782717359 %\n"
     ]
    }
   ],
   "source": [
    "logModel = LogisticRegression(C=log_param)\n",
    "logModel.fit(feature_train,y_train)\n",
    "logPredictions = logModel.predict(feature_test)\n",
    "\n",
    "print(\"Log Model Classification Report\")\n",
    "print(classification_report(y_test, logPredictions))\n",
    "print(\"Log Model Confusion Matrix\")\n",
    "print(confusion_matrix(y_test,logPredictions))\n",
    "\n",
    "TN = confusion_matrix(y_test, logPredictions)[0][0]\n",
    "FP = confusion_matrix(y_test, logPredictions)[0][1]\n",
    "FN = confusion_matrix(y_test, logPredictions)[1][0]\n",
    "TP = confusion_matrix(y_test, logPredictions)[1][1]\n",
    "total = TN + FP + FN + TP\n",
    "# Determine accuracy and misclassification rate\n",
    "accuracy = (TP + TN) / total * 100\n",
    "misclassification_rate = (FP + FN) / total * 100\n",
    "print(\"\\n\")\n",
    "print(\"Accuracy:\",accuracy, '%')\n",
    "print(\"Misclassification Rate:\",misclassification_rate,'%')\n",
    "print('\\n')\n",
    "print('MAE:', metrics.mean_absolute_error(y_test, logPredictions)*100, '%')\n",
    "print('MSE:', metrics.mean_squared_error(y_test, logPredictions)*100, '%')\n",
    "print('RMSE:', np.sqrt(metrics.mean_squared_error(y_test, logPredictions))*100, '%')"
   ]
  },
  {
   "cell_type": "markdown",
   "metadata": {},
   "source": [
    "**Train and evaluate the Multinomial Naive Bayes model**"
   ]
  },
  {
   "cell_type": "code",
   "execution_count": 23,
   "metadata": {
    "collapsed": false
   },
   "outputs": [
    {
     "name": "stdout",
     "output_type": "stream",
     "text": [
      "Multinomial Naive Bayes Model Classification Report\n",
      "             precision    recall  f1-score   support\n",
      "\n",
      "        0.0       0.71      0.75      0.73     33054\n",
      "        1.0       0.73      0.70      0.71     32946\n",
      "\n",
      "avg / total       0.72      0.72      0.72     66000\n",
      "\n",
      "Multinomial Naive Bayes Model Confusion Matrix\n",
      "[[24672  8382]\n",
      " [10037 22909]]\n",
      "\n",
      "\n",
      "Accuracy: 72.0924242424 %\n",
      "Misclassification Rate: 27.9075757576 %\n",
      "\n",
      "\n",
      "MAE: 27.9075757576 %\n",
      "MSE: 27.9075757576 %\n",
      "RMSE: 52.8276213335 %\n"
     ]
    }
   ],
   "source": [
    "multiNBModel = MultinomialNB(alpha=multiNB_param)\n",
    "multiNBModel.fit(feature_train,y_train)\n",
    "multiNBPredictions = multiNBModel.predict(feature_test)\n",
    "\n",
    "print(\"Multinomial Naive Bayes Model Classification Report\")\n",
    "print(classification_report(y_test, multiNBPredictions))\n",
    "print(\"Multinomial Naive Bayes Model Confusion Matrix\")\n",
    "print(confusion_matrix(y_test,multiNBPredictions))\n",
    "\n",
    "TN = confusion_matrix(y_test, multiNBPredictions)[0][0]\n",
    "FP = confusion_matrix(y_test, multiNBPredictions)[0][1]\n",
    "FN = confusion_matrix(y_test, multiNBPredictions)[1][0]\n",
    "TP = confusion_matrix(y_test, multiNBPredictions)[1][1]\n",
    "total = TN + FP + FN + TP\n",
    "# Determine accuracy and misclassification rate\n",
    "accuracy = (TP + TN) / total * 100\n",
    "misclassification_rate = (FP + FN) / total * 100\n",
    "print(\"\\n\")\n",
    "print(\"Accuracy:\",accuracy, '%')\n",
    "print(\"Misclassification Rate:\",misclassification_rate,'%')\n",
    "print('\\n')\n",
    "print('MAE:', metrics.mean_absolute_error(y_test, multiNBPredictions)*100, '%')\n",
    "print('MSE:', metrics.mean_squared_error(y_test, multiNBPredictions)*100, '%')\n",
    "print('RMSE:', np.sqrt(metrics.mean_squared_error(y_test, multiNBPredictions))*100, '%')"
   ]
  },
  {
   "cell_type": "markdown",
   "metadata": {},
   "source": [
    "**Train and evaluate the Bernoulli Naive Bayes Model**"
   ]
  },
  {
   "cell_type": "code",
   "execution_count": 24,
   "metadata": {
    "collapsed": false
   },
   "outputs": [
    {
     "name": "stdout",
     "output_type": "stream",
     "text": [
      "Bernoulli Naive Bayes Model Classification Report\n",
      "             precision    recall  f1-score   support\n",
      "\n",
      "        0.0       0.72      0.78      0.75     33054\n",
      "        1.0       0.76      0.70      0.73     32946\n",
      "\n",
      "avg / total       0.74      0.74      0.74     66000\n",
      "\n",
      "Bernoulli Naive Bayes Model Confusion Matrix\n",
      "[[25680  7374]\n",
      " [ 9932 23014]]\n",
      "\n",
      "\n",
      "Accuracy: 73.7787878788 %\n",
      "Misclassification Rate: 26.2212121212 %\n",
      "\n",
      "\n",
      "MAE: 26.2212121212 %\n",
      "MSE: 26.2212121212 %\n",
      "RMSE: 51.20665203 %\n"
     ]
    }
   ],
   "source": [
    "bernNBModel = BernoulliNB(alpha=bernNB_param)\n",
    "bernNBModel.fit(feature_train,y_train)\n",
    "bernNBPredictions = bernNBModel.predict(feature_test)\n",
    "\n",
    "print(\"Bernoulli Naive Bayes Model Classification Report\")\n",
    "print(classification_report(y_test, bernNBPredictions))\n",
    "print(\"Bernoulli Naive Bayes Model Confusion Matrix\")\n",
    "print(confusion_matrix(y_test,bernNBPredictions))\n",
    "\n",
    "TN = confusion_matrix(y_test, bernNBPredictions)[0][0]\n",
    "FP = confusion_matrix(y_test, bernNBPredictions)[0][1]\n",
    "FN = confusion_matrix(y_test, bernNBPredictions)[1][0]\n",
    "TP = confusion_matrix(y_test, bernNBPredictions)[1][1]\n",
    "total = TN + FP + FN + TP\n",
    "# Determine accuracy and misclassification rate\n",
    "accuracy = (TP + TN) / total * 100\n",
    "misclassification_rate = (FP + FN) / total * 100\n",
    "print(\"\\n\")\n",
    "print(\"Accuracy:\",accuracy, '%')\n",
    "print(\"Misclassification Rate:\",misclassification_rate,'%')\n",
    "print('\\n')\n",
    "print('MAE:', metrics.mean_absolute_error(y_test, bernNBPredictions)*100, '%')\n",
    "print('MSE:', metrics.mean_squared_error(y_test, bernNBPredictions)*100, '%')\n",
    "print('RMSE:', np.sqrt(metrics.mean_squared_error(y_test, bernNBPredictions))*100, '%')"
   ]
  },
  {
   "cell_type": "markdown",
   "metadata": {},
   "source": [
    "The Logarithmic Regression model had the least error of the 3 models regardless of the method used to calculate error. It also has the highest accuracy of the three models for the given test set. "
   ]
  },
  {
   "cell_type": "markdown",
   "metadata": {},
   "source": [
    "### From the above analysis, it was determined that the best algorithm for this analysis is the Logarithmic Regression Classification algorithm. It will be used from here on for the second part of the assignment."
   ]
  },
  {
   "cell_type": "markdown",
   "metadata": {},
   "source": [
    "## Part 2: Categorize Unclassified Tweets by Political Parties"
   ]
  },
  {
   "cell_type": "markdown",
   "metadata": {},
   "source": [
    "**Read in unclassified data**"
   ]
  },
  {
   "cell_type": "code",
   "execution_count": 25,
   "metadata": {
    "collapsed": true
   },
   "outputs": [],
   "source": [
    "unclassifiedTweetsList = open('unclassified_tweets.txt','r').read().split('\\n')\n",
    "del unclassifiedTweetsList[-1] # Delete the last row since it's blank"
   ]
  },
  {
   "cell_type": "markdown",
   "metadata": {},
   "source": [
    "### 2a) Create Sets of Party Related Words\n",
    "\n",
    "The following words were found by searching through Twitter pages. Firstly, the party name was searched for on Twitter, and then related hashtags were found in the results and added to the relevant set. Then those hashtags were search for, and its related hashtags were added to the relevant set. This process was continued until no more specific hashtags could be found."
   ]
  },
  {
   "cell_type": "code",
   "execution_count": 26,
   "metadata": {
    "collapsed": true
   },
   "outputs": [],
   "source": [
    "NDP = set(['ndp','tommulcair','mulcair','ndpldr','ndleg','pj17','thomasmulcair'])\n",
    "Liberal = set(['liberal','trudeau','justintrudeau','realchange','lpc'])\n",
    "Conservative = set(['conservative','cpcldr','cpc','m103','stevenharper','harper','tories','ronaambrose','ambrose'])"
   ]
  },
  {
   "cell_type": "markdown",
   "metadata": {},
   "source": [
    "### 2b) Function to Assign Party To Tweets"
   ]
  },
  {
   "cell_type": "code",
   "execution_count": 27,
   "metadata": {
    "collapsed": true
   },
   "outputs": [],
   "source": [
    "def getParty(tw_unigram):\n",
    "    # Start some counters\n",
    "    num_ndp_words = 0\n",
    "    num_lib_words = 0\n",
    "    num_cons_words = 0\n",
    "    \n",
    "    # Loop through unigrams\n",
    "    for word in tw_unigram:\n",
    "        if word.lower() in Liberal:\n",
    "            num_lib_words += 1\n",
    "        elif word.lower() in NDP:\n",
    "            num_ndp_words += 1\n",
    "        elif word.lower() in Conservative:\n",
    "            num_cons_words += 1\n",
    "    \n",
    "    party = ''\n",
    "    \n",
    "    if ( num_lib_words > num_cons_words and num_lib_words > num_ndp_words ):\n",
    "        party = 'Liberal'\n",
    "    elif ( num_cons_words > num_lib_words and num_cons_words > num_ndp_words ):\n",
    "        party = 'Conservative'\n",
    "    elif ( num_ndp_words > num_lib_words and num_ndp_words > num_cons_words ):\n",
    "        party = 'NDP'\n",
    "    else:\n",
    "        party = 'Unknown'\n",
    "        \n",
    "    return party"
   ]
  },
  {
   "cell_type": "markdown",
   "metadata": {},
   "source": [
    "### 2c) Categorize Tweets By Party"
   ]
  },
  {
   "cell_type": "markdown",
   "metadata": {},
   "source": [
    "**Initialize anaylzer to tokenize tweets**"
   ]
  },
  {
   "cell_type": "code",
   "execution_count": 28,
   "metadata": {
    "collapsed": true
   },
   "outputs": [],
   "source": [
    "analyzer = vectorizer.build_analyzer()"
   ]
  },
  {
   "cell_type": "markdown",
   "metadata": {},
   "source": [
    "**Initialize list to store parties**"
   ]
  },
  {
   "cell_type": "code",
   "execution_count": 29,
   "metadata": {
    "collapsed": true
   },
   "outputs": [],
   "source": [
    "party = [0] * len(unclassifiedTweetsList)"
   ]
  },
  {
   "cell_type": "markdown",
   "metadata": {},
   "source": [
    "**Categorize tweets by party**"
   ]
  },
  {
   "cell_type": "code",
   "execution_count": 30,
   "metadata": {
    "collapsed": false
   },
   "outputs": [],
   "source": [
    "for i in range(len(unclassifiedTweetsList)):\n",
    "    party[i] = getParty(analyzer(unclassifiedTweetsList[i]))"
   ]
  },
  {
   "cell_type": "markdown",
   "metadata": {},
   "source": [
    "## Part 3: Predict Scores for Unclassified Tweets"
   ]
  },
  {
   "cell_type": "markdown",
   "metadata": {},
   "source": [
    "**Transform tweets into features using Tfidfvectorizer**"
   ]
  },
  {
   "cell_type": "code",
   "execution_count": 31,
   "metadata": {
    "collapsed": false
   },
   "outputs": [],
   "source": [
    "features_unclassified = vectorizer.transform(unclassifiedTweetsList)\n",
    "score = logModel.predict(features_unclassified)"
   ]
  },
  {
   "cell_type": "markdown",
   "metadata": {},
   "source": [
    "**Write into dataframe**"
   ]
  },
  {
   "cell_type": "code",
   "execution_count": 32,
   "metadata": {
    "collapsed": false
   },
   "outputs": [
    {
     "data": {
      "text/html": [
       "<div>\n",
       "<table border=\"1\" class=\"dataframe\">\n",
       "  <thead>\n",
       "    <tr style=\"text-align: right;\">\n",
       "      <th></th>\n",
       "      <th>party</th>\n",
       "      <th>score</th>\n",
       "      <th>tweet</th>\n",
       "    </tr>\n",
       "  </thead>\n",
       "  <tbody>\n",
       "    <tr>\n",
       "      <th>0</th>\n",
       "      <td>NDP</td>\n",
       "      <td>0.0</td>\n",
       "      <td>﻿living the dream. #cameraman #camera #camerac...</td>\n",
       "    </tr>\n",
       "    <tr>\n",
       "      <th>1</th>\n",
       "      <td>Liberal</td>\n",
       "      <td>1.0</td>\n",
       "      <td>justin #trudeau's reasons for thanksgiving. to...</td>\n",
       "    </tr>\n",
       "    <tr>\n",
       "      <th>2</th>\n",
       "      <td>Unknown</td>\n",
       "      <td>0.0</td>\n",
       "      <td>@themadape   butt…..butt…..we’re allergic to l...</td>\n",
       "    </tr>\n",
       "    <tr>\n",
       "      <th>3</th>\n",
       "      <td>Unknown</td>\n",
       "      <td>1.0</td>\n",
       "      <td>2 massive explosions at peace march in #turkey...</td>\n",
       "    </tr>\n",
       "    <tr>\n",
       "      <th>4</th>\n",
       "      <td>NDP</td>\n",
       "      <td>0.0</td>\n",
       "      <td>#mulcair suggests there’s bad blood between hi...</td>\n",
       "    </tr>\n",
       "  </tbody>\n",
       "</table>\n",
       "</div>"
      ],
      "text/plain": [
       "     party  score                                              tweet\n",
       "0      NDP    0.0  ﻿living the dream. #cameraman #camera #camerac...\n",
       "1  Liberal    1.0  justin #trudeau's reasons for thanksgiving. to...\n",
       "2  Unknown    0.0  @themadape   butt…..butt…..we’re allergic to l...\n",
       "3  Unknown    1.0  2 massive explosions at peace march in #turkey...\n",
       "4      NDP    0.0  #mulcair suggests there’s bad blood between hi..."
      ]
     },
     "execution_count": 32,
     "metadata": {},
     "output_type": "execute_result"
    }
   ],
   "source": [
    "unclassifiedDF = pd.DataFrame(\n",
    "    {'tweet':unclassifiedTweetsList,\n",
    "     'party':party,\n",
    "     'score':score\n",
    "    }\n",
    ")\n",
    "unclassifiedDF.head()"
   ]
  },
  {
   "cell_type": "markdown",
   "metadata": {},
   "source": [
    "**Remove Unknown tweets**\n",
    "\n",
    "These tweets could not be categorized so they will be ignored for analysis"
   ]
  },
  {
   "cell_type": "code",
   "execution_count": 33,
   "metadata": {
    "collapsed": false
   },
   "outputs": [
    {
     "data": {
      "text/html": [
       "<div>\n",
       "<table border=\"1\" class=\"dataframe\">\n",
       "  <thead>\n",
       "    <tr style=\"text-align: right;\">\n",
       "      <th></th>\n",
       "      <th>party</th>\n",
       "      <th>score</th>\n",
       "      <th>tweet</th>\n",
       "    </tr>\n",
       "  </thead>\n",
       "  <tbody>\n",
       "    <tr>\n",
       "      <th>0</th>\n",
       "      <td>NDP</td>\n",
       "      <td>0.0</td>\n",
       "      <td>﻿living the dream. #cameraman #camera #camerac...</td>\n",
       "    </tr>\n",
       "    <tr>\n",
       "      <th>1</th>\n",
       "      <td>Liberal</td>\n",
       "      <td>1.0</td>\n",
       "      <td>justin #trudeau's reasons for thanksgiving. to...</td>\n",
       "    </tr>\n",
       "    <tr>\n",
       "      <th>2</th>\n",
       "      <td>NDP</td>\n",
       "      <td>0.0</td>\n",
       "      <td>#mulcair suggests there’s bad blood between hi...</td>\n",
       "    </tr>\n",
       "    <tr>\n",
       "      <th>3</th>\n",
       "      <td>Conservative</td>\n",
       "      <td>1.0</td>\n",
       "      <td>harper gave $8m to help other countries' get r...</td>\n",
       "    </tr>\n",
       "    <tr>\n",
       "      <th>4</th>\n",
       "      <td>NDP</td>\n",
       "      <td>0.0</td>\n",
       "      <td>#ready4change #ndp #tm4pm fb.me/53nxi25ue</td>\n",
       "    </tr>\n",
       "  </tbody>\n",
       "</table>\n",
       "</div>"
      ],
      "text/plain": [
       "          party  score                                              tweet\n",
       "0           NDP    0.0  ﻿living the dream. #cameraman #camera #camerac...\n",
       "1       Liberal    1.0  justin #trudeau's reasons for thanksgiving. to...\n",
       "2           NDP    0.0  #mulcair suggests there’s bad blood between hi...\n",
       "3  Conservative    1.0  harper gave $8m to help other countries' get r...\n",
       "4           NDP    0.0         #ready4change #ndp #tm4pm fb.me/53nxi25ue "
      ]
     },
     "execution_count": 33,
     "metadata": {},
     "output_type": "execute_result"
    }
   ],
   "source": [
    "unclassifiedDF = unclassifiedDF[unclassifiedDF['party'] != 'Unknown'].reset_index()[['party','score','tweet']]\n",
    "unclassifiedDF.head()"
   ]
  },
  {
   "cell_type": "markdown",
   "metadata": {},
   "source": [
    "## Part 4: Political Insights"
   ]
  },
  {
   "cell_type": "markdown",
   "metadata": {},
   "source": [
    "**Overall standard statistical analysis**"
   ]
  },
  {
   "cell_type": "code",
   "execution_count": 34,
   "metadata": {
    "collapsed": false
   },
   "outputs": [
    {
     "data": {
      "text/html": [
       "<div>\n",
       "<table border=\"1\" class=\"dataframe\">\n",
       "  <thead>\n",
       "    <tr style=\"text-align: right;\">\n",
       "      <th></th>\n",
       "      <th></th>\n",
       "      <th>score</th>\n",
       "    </tr>\n",
       "    <tr>\n",
       "      <th>party</th>\n",
       "      <th></th>\n",
       "      <th></th>\n",
       "    </tr>\n",
       "  </thead>\n",
       "  <tbody>\n",
       "    <tr>\n",
       "      <th rowspan=\"8\" valign=\"top\">Conservative</th>\n",
       "      <th>count</th>\n",
       "      <td>490.000000</td>\n",
       "    </tr>\n",
       "    <tr>\n",
       "      <th>mean</th>\n",
       "      <td>0.608163</td>\n",
       "    </tr>\n",
       "    <tr>\n",
       "      <th>std</th>\n",
       "      <td>0.488659</td>\n",
       "    </tr>\n",
       "    <tr>\n",
       "      <th>min</th>\n",
       "      <td>0.000000</td>\n",
       "    </tr>\n",
       "    <tr>\n",
       "      <th>25%</th>\n",
       "      <td>0.000000</td>\n",
       "    </tr>\n",
       "    <tr>\n",
       "      <th>50%</th>\n",
       "      <td>1.000000</td>\n",
       "    </tr>\n",
       "    <tr>\n",
       "      <th>75%</th>\n",
       "      <td>1.000000</td>\n",
       "    </tr>\n",
       "    <tr>\n",
       "      <th>max</th>\n",
       "      <td>1.000000</td>\n",
       "    </tr>\n",
       "    <tr>\n",
       "      <th rowspan=\"8\" valign=\"top\">Liberal</th>\n",
       "      <th>count</th>\n",
       "      <td>596.000000</td>\n",
       "    </tr>\n",
       "    <tr>\n",
       "      <th>mean</th>\n",
       "      <td>0.783557</td>\n",
       "    </tr>\n",
       "    <tr>\n",
       "      <th>std</th>\n",
       "      <td>0.412166</td>\n",
       "    </tr>\n",
       "    <tr>\n",
       "      <th>min</th>\n",
       "      <td>0.000000</td>\n",
       "    </tr>\n",
       "    <tr>\n",
       "      <th>25%</th>\n",
       "      <td>1.000000</td>\n",
       "    </tr>\n",
       "    <tr>\n",
       "      <th>50%</th>\n",
       "      <td>1.000000</td>\n",
       "    </tr>\n",
       "    <tr>\n",
       "      <th>75%</th>\n",
       "      <td>1.000000</td>\n",
       "    </tr>\n",
       "    <tr>\n",
       "      <th>max</th>\n",
       "      <td>1.000000</td>\n",
       "    </tr>\n",
       "    <tr>\n",
       "      <th rowspan=\"8\" valign=\"top\">NDP</th>\n",
       "      <th>count</th>\n",
       "      <td>328.000000</td>\n",
       "    </tr>\n",
       "    <tr>\n",
       "      <th>mean</th>\n",
       "      <td>0.740854</td>\n",
       "    </tr>\n",
       "    <tr>\n",
       "      <th>std</th>\n",
       "      <td>0.438836</td>\n",
       "    </tr>\n",
       "    <tr>\n",
       "      <th>min</th>\n",
       "      <td>0.000000</td>\n",
       "    </tr>\n",
       "    <tr>\n",
       "      <th>25%</th>\n",
       "      <td>0.000000</td>\n",
       "    </tr>\n",
       "    <tr>\n",
       "      <th>50%</th>\n",
       "      <td>1.000000</td>\n",
       "    </tr>\n",
       "    <tr>\n",
       "      <th>75%</th>\n",
       "      <td>1.000000</td>\n",
       "    </tr>\n",
       "    <tr>\n",
       "      <th>max</th>\n",
       "      <td>1.000000</td>\n",
       "    </tr>\n",
       "  </tbody>\n",
       "</table>\n",
       "</div>"
      ],
      "text/plain": [
       "                         score\n",
       "party                         \n",
       "Conservative count  490.000000\n",
       "             mean     0.608163\n",
       "             std      0.488659\n",
       "             min      0.000000\n",
       "             25%      0.000000\n",
       "             50%      1.000000\n",
       "             75%      1.000000\n",
       "             max      1.000000\n",
       "Liberal      count  596.000000\n",
       "             mean     0.783557\n",
       "             std      0.412166\n",
       "             min      0.000000\n",
       "             25%      1.000000\n",
       "             50%      1.000000\n",
       "             75%      1.000000\n",
       "             max      1.000000\n",
       "NDP          count  328.000000\n",
       "             mean     0.740854\n",
       "             std      0.438836\n",
       "             min      0.000000\n",
       "             25%      0.000000\n",
       "             50%      1.000000\n",
       "             75%      1.000000\n",
       "             max      1.000000"
      ]
     },
     "execution_count": 34,
     "metadata": {},
     "output_type": "execute_result"
    }
   ],
   "source": [
    "unclassifiedDF.groupby('party').describe()"
   ]
  },
  {
   "cell_type": "markdown",
   "metadata": {},
   "source": [
    "**Write important stats into dataframe**"
   ]
  },
  {
   "cell_type": "code",
   "execution_count": 35,
   "metadata": {
    "collapsed": false
   },
   "outputs": [
    {
     "data": {
      "text/html": [
       "<div>\n",
       "<table border=\"1\" class=\"dataframe\">\n",
       "  <thead>\n",
       "    <tr style=\"text-align: right;\">\n",
       "      <th></th>\n",
       "      <th>party</th>\n",
       "      <th>std</th>\n",
       "      <th>count</th>\n",
       "      <th>mean</th>\n",
       "      <th>tweet %</th>\n",
       "    </tr>\n",
       "  </thead>\n",
       "  <tbody>\n",
       "    <tr>\n",
       "      <th>0</th>\n",
       "      <td>Conservative</td>\n",
       "      <td>0.488659</td>\n",
       "      <td>490</td>\n",
       "      <td>0.608163</td>\n",
       "      <td>34.653465</td>\n",
       "    </tr>\n",
       "    <tr>\n",
       "      <th>1</th>\n",
       "      <td>Liberal</td>\n",
       "      <td>0.412166</td>\n",
       "      <td>596</td>\n",
       "      <td>0.783557</td>\n",
       "      <td>42.149929</td>\n",
       "    </tr>\n",
       "    <tr>\n",
       "      <th>2</th>\n",
       "      <td>NDP</td>\n",
       "      <td>0.438836</td>\n",
       "      <td>328</td>\n",
       "      <td>0.740854</td>\n",
       "      <td>23.196605</td>\n",
       "    </tr>\n",
       "  </tbody>\n",
       "</table>\n",
       "</div>"
      ],
      "text/plain": [
       "          party       std  count      mean    tweet %\n",
       "0  Conservative  0.488659    490  0.608163  34.653465\n",
       "1       Liberal  0.412166    596  0.783557  42.149929\n",
       "2           NDP  0.438836    328  0.740854  23.196605"
      ]
     },
     "execution_count": 35,
     "metadata": {},
     "output_type": "execute_result"
    }
   ],
   "source": [
    "party_stats = unclassifiedDF.groupby('party').mean()\n",
    "party_stats['std'] = unclassifiedDF.groupby('party').std()\n",
    "party_stats['count'] = unclassifiedDF.groupby('party').count()['score']\n",
    "party_stats['mean'] = party_stats['score']\n",
    "party_stats['tweet %'] = party_stats['count']/party_stats['count'].sum()*100\n",
    "party_stats = party_stats.reset_index().drop(labels='score',axis=1)\n",
    "party_stats"
   ]
  },
  {
   "cell_type": "markdown",
   "metadata": {},
   "source": [
    "**Analyze each party's buzz**"
   ]
  },
  {
   "cell_type": "code",
   "execution_count": 36,
   "metadata": {
    "collapsed": false
   },
   "outputs": [
    {
     "name": "stdout",
     "output_type": "stream",
     "text": [
      "The Liberal party had the most buzz with about 42.15% of the party related tweets.\n",
      "The NDP party had the least buzz with about 23.20% of the party related tweets.\n"
     ]
    }
   ],
   "source": [
    "print(\"The %s party had the most buzz with about %.2f%% of the party related tweets.\" \n",
    "      % (party_stats.ix[party_stats['tweet %'].idxmax()]['party'], \n",
    "         party_stats.ix[party_stats['tweet %'].idxmax()]['tweet %']))\n",
    "\n",
    "print(\"The %s party had the least buzz with about %.2f%% of the party related tweets.\"\n",
    "      % (party_stats.ix[party_stats['tweet %'].idxmin()]['party'], \n",
    "         party_stats.ix[party_stats['tweet %'].idxmin()]['tweet %']))"
   ]
  },
  {
   "cell_type": "markdown",
   "metadata": {},
   "source": [
    "**Analyze which party is the most and least liked**"
   ]
  },
  {
   "cell_type": "code",
   "execution_count": 37,
   "metadata": {
    "collapsed": false
   },
   "outputs": [
    {
     "name": "stdout",
     "output_type": "stream",
     "text": [
      "The Liberal party had the most liked with a postive-negative tweet ratio of 78.36%.\n",
      "The Conservative party had the least liked with a postive-negative tweet ratio of 60.82%.\n"
     ]
    }
   ],
   "source": [
    "print(\"The %s party had the most liked with a postive-negative tweet ratio of %.2f%%.\" \n",
    "      % (party_stats.ix[party_stats['mean'].idxmax()]['party'], \n",
    "         party_stats.ix[party_stats['mean'].idxmax()]['mean']*100))\n",
    "\n",
    "print(\"The %s party had the least liked with a postive-negative tweet ratio of %.2f%%.\"\n",
    "      % (party_stats.ix[party_stats['mean'].idxmin()]['party'], \n",
    "         party_stats.ix[party_stats['mean'].idxmin()]['mean']*100))"
   ]
  },
  {
   "cell_type": "markdown",
   "metadata": {},
   "source": [
    "**Plot distribution of sentiments for each party**"
   ]
  },
  {
   "cell_type": "code",
   "execution_count": 38,
   "metadata": {
    "collapsed": false
   },
   "outputs": [
    {
     "data": {
      "text/plain": [
       "([<matplotlib.axis.XTick at 0x7fe646efeb70>,\n",
       "  <matplotlib.axis.XTick at 0x7fe647410b70>,\n",
       "  <matplotlib.axis.XTick at 0x7fe646edf908>],\n",
       " <a list of 3 Text xticklabel objects>)"
      ]
     },
     "execution_count": 38,
     "metadata": {},
     "output_type": "execute_result"
    },
    {
     "data": {
      "image/png": "[encoded data removed]",
      "text/plain": [
       "<matplotlib.figure.Figure at 0x7fe6471bdcf8>"
      ]
     },
     "metadata": {},
     "output_type": "display_data"
    }
   ],
   "source": [
    "fig3, ax3 = plt.subplots(figsize=(12,5))\n",
    "ax3.errorbar(np.arange(3), party_stats['mean'], party_stats['std'], fmt='ok', color='r', lw=2,markersize=10)\n",
    "plt.title(\"Party Sentiment Analysis\")\n",
    "plt.xlabel('Party')\n",
    "plt.ylabel('Score')\n",
    "plt.xlim(-1,3)\n",
    "plt.ylim(0.2,1.25)\n",
    "plt.xticks(np.arange(3),party_stats['party'])"
   ]
  },
  {
   "cell_type": "markdown",
   "metadata": {},
   "source": [
    "The Liberal Party performed the best with the highest mean score and lowest standard deviation. The NDP party was close behind. The Conservative party performed the worst with the lowest mean score and the highest standard deviation."
   ]
  },
  {
   "cell_type": "markdown",
   "metadata": {},
   "source": [
    "## Part 5: Conclusion "
   ]
  },
  {
   "cell_type": "markdown",
   "metadata": {},
   "source": [
    "**Conclusion from above results**"
   ]
  },
  {
   "cell_type": "markdown",
   "metadata": {},
   "source": [
    "The Liberal and NDP parties have very similar distributions but the Liberal party was more liked and had almost twice as many tweets than the NDP party. Overall, it shows the Liberal party had the most positive attention and the most likely to win the Canadian Federal Election. The Conservative party also got more positive attention than the NDP party even though its positive-negative ratio was worse than the NDP party. The NDP party had the least attention overall."
   ]
  },
  {
   "cell_type": "markdown",
   "metadata": {},
   "source": [
    "**Actual results from the 2015 Canadian Election**"
   ]
  },
  {
   "cell_type": "markdown",
   "metadata": {},
   "source": [
    "This was reflected in the actual 2015 Canadian Federal election because Justin Trudeau and the Liberal party won the election and had the most seats. The Conservative party and Steven Harper got second most votes with the second most seats. They however lost the most seats from what they had prior. The NDP was third with the least votes and least seats.\n",
    "\n",
    "Ref: https://en.wikipedia.org/wiki/Results_of_the_Canadian_federal_election,_2015"
   ]
  }
 ],
 "metadata": {
  "kernelspec": {
   "display_name": "Python 3",
   "language": "python",
   "name": "python3"
  },
  "language_info": {
   "codemirror_mode": {
    "name": "ipython",
    "version": 3.0
   },
   "file_extension": ".py",
   "mimetype": "text/x-python",
   "name": "python",
   "nbconvert_exporter": "python",
   "pygments_lexer": "ipython3",
   "version": "3.4.3"
  },
  "widgets": {
   "state": {},
   "version": "1.1.2"
  }
 },
 "nbformat": 4,
 "nbformat_minor": 0
}